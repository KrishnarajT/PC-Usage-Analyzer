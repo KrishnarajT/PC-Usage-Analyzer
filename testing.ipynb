{
 "cells": [
  {
   "cell_type": "code",
   "execution_count": null,
   "metadata": {
    "is_executing": true
   },
   "outputs": [],
   "source": [
    "import pygetwindow as gw"
   ]
  },
  {
   "cell_type": "code",
   "execution_count": 4,
   "metadata": {},
   "outputs": [
    {
     "data": {
      "text/plain": [
       "['testing.ipynb - DSML - python - Visual Studio Code - Insiders',\n",
       " \"asweigart/PyGetWindow: A simple, cross-platform module for obtaining GUI information on applications' windows. and 7 more pages - Personal - Microsoft\\u200b Edge\",\n",
       " 'Data Sets',\n",
       " 'WhatsApp',\n",
       " '6. Independent and Dependent events.mp4 - PotPlayer',\n",
       " 'To-Do | Default view',\n",
       " 'Design',\n",
       " 'Task Manager',\n",
       " 'OneNote for Windows 10',\n",
       " 'OneNote for Windows 10',\n",
       " 'Windows Input Experience',\n",
       " 'Mail',\n",
       " 'Inbox - Outlook \\u200e- Mail',\n",
       " 'Settings',\n",
       " 'Settings',\n",
       " 'WhatsApp',\n",
       " 'Program Manager']"
      ]
     },
     "execution_count": 4,
     "metadata": {},
     "output_type": "execute_result"
    }
   ],
   "source": [
    "gw.getAllTitles()\n",
    "# filter those that are empty\n",
    "windows = [w for w in gw.getAllTitles() if w]\n",
    "windows"
   ]
  },
  {
   "cell_type": "code",
   "execution_count": 6,
   "metadata": {},
   "outputs": [
    {
     "data": {
      "text/plain": [
       "[Win32Window(hWnd=527282),\n",
       " Win32Window(hWnd=65736),\n",
       " Win32Window(hWnd=1510122),\n",
       " Win32Window(hWnd=656072),\n",
       " Win32Window(hWnd=1705758),\n",
       " Win32Window(hWnd=18615200),\n",
       " Win32Window(hWnd=265884),\n",
       " Win32Window(hWnd=2228790),\n",
       " Win32Window(hWnd=395648),\n",
       " Win32Window(hWnd=67648),\n",
       " Win32Window(hWnd=199072),\n",
       " Win32Window(hWnd=459440),\n",
       " Win32Window(hWnd=1116530),\n",
       " Win32Window(hWnd=262678),\n",
       " Win32Window(hWnd=329912),\n",
       " Win32Window(hWnd=131180),\n",
       " Win32Window(hWnd=132844),\n",
       " Win32Window(hWnd=198126),\n",
       " Win32Window(hWnd=131256),\n",
       " Win32Window(hWnd=263758),\n",
       " Win32Window(hWnd=394068),\n",
       " Win32Window(hWnd=65966),\n",
       " Win32Window(hWnd=65906),\n",
       " Win32Window(hWnd=65904),\n",
       " Win32Window(hWnd=65902),\n",
       " Win32Window(hWnd=65900),\n",
       " Win32Window(hWnd=264346),\n",
       " Win32Window(hWnd=132990),\n",
       " Win32Window(hWnd=658334),\n",
       " Win32Window(hWnd=1707014),\n",
       " Win32Window(hWnd=263540),\n",
       " Win32Window(hWnd=527672),\n",
       " Win32Window(hWnd=65852)]"
      ]
     },
     "execution_count": 6,
     "metadata": {},
     "output_type": "execute_result"
    }
   ],
   "source": [
    "gw.getAllWindows()"
   ]
  },
  {
   "cell_type": "code",
   "execution_count": 27,
   "metadata": {},
   "outputs": [],
   "source": [
    "whatsapp = gw.getWindowsWithTitle(\"Whatsapp\")[0]\n",
    "whatsapp.title\n",
    "whatsapp.minimize()"
   ]
  },
  {
   "cell_type": "code",
   "execution_count": 31,
   "metadata": {},
   "outputs": [],
   "source": [
    "whatsapp.close()"
   ]
  },
  {
   "cell_type": "code",
   "execution_count": 20,
   "metadata": {},
   "outputs": [
    {
     "data": {
      "text/plain": [
       "'testing.ipynb - DSML - python - Visual Studio Code - Insiders'"
      ]
     },
     "execution_count": 20,
     "metadata": {},
     "output_type": "execute_result"
    }
   ],
   "source": [
    "gw.getActiveWindow().title"
   ]
  },
  {
   "cell_type": "code",
   "execution_count": 11,
   "metadata": {},
   "outputs": [
    {
     "data": {
      "text/plain": [
       "[Win32Window(hWnd=656072),\n",
       " Win32Window(hWnd=18615200),\n",
       " Win32Window(hWnd=265884),\n",
       " Win32Window(hWnd=67648),\n",
       " Win32Window(hWnd=262678),\n",
       " Win32Window(hWnd=131180),\n",
       " Win32Window(hWnd=132844),\n",
       " Win32Window(hWnd=131256),\n",
       " Win32Window(hWnd=658334),\n",
       " Win32Window(hWnd=65852)]"
      ]
     },
     "execution_count": 11,
     "metadata": {},
     "output_type": "execute_result"
    }
   ],
   "source": [
    "gw.getWindowsAt(10, 10)"
   ]
  },
  {
   "cell_type": "code",
   "execution_count": 32,
   "metadata": {},
   "outputs": [],
   "source": [
    "current_window = gw.getActiveWindow()"
   ]
  },
  {
   "cell_type": "code",
   "execution_count": 36,
   "metadata": {},
   "outputs": [
    {
     "data": {
      "text/plain": [
       "'testing.ipynb - DSML - python - Visual Studio Code - Insiders'"
      ]
     },
     "execution_count": 36,
     "metadata": {},
     "output_type": "execute_result"
    }
   ],
   "source": [
    "current_window.title"
   ]
  },
  {
   "cell_type": "code",
   "execution_count": 38,
   "metadata": {},
   "outputs": [
    {
     "data": {
      "text/plain": [
       "True"
      ]
     },
     "execution_count": 38,
     "metadata": {},
     "output_type": "execute_result"
    }
   ],
   "source": [
    "current_window.isActive"
   ]
  },
  {
   "cell_type": "code",
   "execution_count": 39,
   "metadata": {},
   "outputs": [
    {
     "name": "stdout",
     "output_type": "stream",
     "text": [
      "testing.ipynb - DSML - python - Visual Studio Code - Insiders\n",
      "testing.ipynb - DSML - python - Visual Studio Code - Insiders\n",
      "testing.ipynb - DSML - python - Visual Studio Code - Insiders\n",
      "testing.ipynb - DSML - python - Visual Studio Code - Insiders\n",
      "testing.ipynb - DSML - python - Visual Studio Code - Insiders\n",
      "testing.ipynb - DSML - python - Visual Studio Code - Insiders\n",
      "testing.ipynb - DSML - python - Visual Studio Code - Insiders\n",
      "testing.ipynb - DSML - python - Visual Studio Code - Insiders\n",
      "testing.ipynb - DSML - python - Visual Studio Code - Insiders\n",
      "testing.ipynb - DSML - python - Visual Studio Code - Insiders\n",
      "testing.ipynb - DSML - python - Visual Studio Code - Insiders\n",
      "testing.ipynb - DSML - python - Visual Studio Code - Insiders\n",
      "testing.ipynb - DSML - python - Visual Studio Code - Insiders\n",
      "testing.ipynb - DSML - python - Visual Studio Code - Insiders\n",
      "testing.ipynb - DSML - python - Visual Studio Code - Insiders\n",
      "testing.ipynb - DSML - python - Visual Studio Code - Insiders\n",
      "testing.ipynb - DSML - python - Visual Studio Code - Insiders\n",
      "testing.ipynb - DSML - python - Visual Studio Code - Insiders\n",
      "testing.ipynb - DSML - python - Visual Studio Code - Insiders\n",
      "testing.ipynb - DSML - python - Visual Studio Code - Insiders\n",
      "testing.ipynb - DSML - python - Visual Studio Code - Insiders\n",
      "testing.ipynb - DSML - python - Visual Studio Code - Insiders\n",
      "testing.ipynb - DSML - python - Visual Studio Code - Insiders\n",
      "testing.ipynb - DSML - python - Visual Studio Code - Insiders\n",
      "testing.ipynb - DSML - python - Visual Studio Code - Insiders\n",
      "testing.ipynb - DSML - python - Visual Studio Code - Insiders\n",
      "testing.ipynb - DSML - python - Visual Studio Code - Insiders\n"
     ]
    },
    {
     "ename": "KeyboardInterrupt",
     "evalue": "",
     "output_type": "error",
     "traceback": [
      "\u001b[1;31m---------------------------------------------------------------------------\u001b[0m",
      "\u001b[1;31mKeyboardInterrupt\u001b[0m                         Traceback (most recent call last)",
      "Cell \u001b[1;32mIn[39], line 5\u001b[0m\n\u001b[0;32m      3\u001b[0m \u001b[38;5;28;01mwhile\u001b[39;00m \u001b[38;5;28;01mTrue\u001b[39;00m:\n\u001b[0;32m      4\u001b[0m     \u001b[38;5;28mprint\u001b[39m(current_window\u001b[38;5;241m.\u001b[39mtitle)\n\u001b[1;32m----> 5\u001b[0m     \u001b[43mtime\u001b[49m\u001b[38;5;241;43m.\u001b[39;49m\u001b[43msleep\u001b[49m\u001b[43m(\u001b[49m\u001b[38;5;241;43m1\u001b[39;49m\u001b[43m)\u001b[49m\n",
      "\u001b[1;31mKeyboardInterrupt\u001b[0m: "
     ]
    }
   ],
   "source": [
    "import time\n",
    "\n",
    "while True:\n",
    "    print(current_window.title)\n",
    "    time.sleep(1)"
   ]
  },
  {
   "cell_type": "code",
   "execution_count": 40,
   "metadata": {},
   "outputs": [
    {
     "name": "stdout",
     "output_type": "stream",
     "text": [
      "Requirement already satisfied: pywin32 in p:\\programs\\dsml\\dsmlenv\\lib\\site-packages (306)\n",
      "Note: you may need to restart the kernel to use updated packages.\n"
     ]
    },
    {
     "name": "stderr",
     "output_type": "stream",
     "text": [
      "\n",
      "[notice] A new release of pip is available: 23.3.1 -> 23.3.2\n",
      "[notice] To update, run: python.exe -m pip install --upgrade pip\n"
     ]
    }
   ],
   "source": [
    "%pip install pywin32"
   ]
  },
  {
   "cell_type": "code",
   "execution_count": 41,
   "metadata": {},
   "outputs": [],
   "source": [
    "import win32api\n",
    "import win32gui"
   ]
  },
  {
   "cell_type": "code",
   "execution_count": 42,
   "metadata": {},
   "outputs": [
    {
     "name": "stdout",
     "output_type": "stream",
     "text": [
      "testing.ipynb - DSML - python - Visual Studio Code - Insiders\n"
     ]
    }
   ],
   "source": [
    "active_window_title = win32gui.GetWindowText(win32gui.GetForegroundWindow())\n",
    "print(active_window_title)"
   ]
  },
  {
   "cell_type": "code",
   "execution_count": 45,
   "metadata": {},
   "outputs": [
    {
     "name": "stdout",
     "output_type": "stream",
     "text": [
      "testing.ipynb - DSML - python - Visual Studio Code - Insiders\n",
      "testing.ipynb - DSML - python - Visual Studio Code - Insiders\n",
      "WhatsApp\n",
      "WhatsApp\n",
      "testing.ipynb - DSML - python - Visual Studio Code - Insiders\n",
      "testing.ipynb - DSML - python - Visual Studio Code - Insiders\n",
      "testing.ipynb - DSML - python - Visual Studio Code - Insiders\n",
      "6. Independent and Dependent events.mp4 - PotPlayer\n",
      "6. Independent and Dependent events.mp4 - PotPlayer\n",
      "6. Independent and Dependent events.mp4 - PotPlayer\n"
     ]
    }
   ],
   "source": [
    "i = 10\n",
    "while i:\n",
    "    print(win32gui.GetWindowText(win32gui.GetForegroundWindow()))\n",
    "    time.sleep(1)\n",
    "    i -= 1"
   ]
  },
  {
   "cell_type": "code",
   "execution_count": 47,
   "metadata": {},
   "outputs": [
    {
     "name": "stdout",
     "output_type": "stream",
     "text": [
      "Window Title: testing.ipynb - DSML - python - Visual Studio Code - Insiders\n",
      "Window Class Name: Chrome_WidgetWin_1\n",
      "Window Position: (-7, -7, 1543, 823)\n",
      "Process ID: 27276\n"
     ]
    }
   ],
   "source": [
    "import win32gui\n",
    "import win32process\n",
    "\n",
    "hwnd = win32gui.GetForegroundWindow()\n",
    "window_title = win32gui.GetWindowText(hwnd)\n",
    "window_class_name = win32gui.GetClassName(hwnd)\n",
    "window_rect = win32gui.GetWindowRect(hwnd)\n",
    "_, process_id = win32process.GetWindowThreadProcessId(hwnd)\n",
    "print(\"Window Title:\", window_title)\n",
    "print(\"Window Class Name:\", window_class_name)\n",
    "print(\"Window Position:\", window_rect)\n",
    "print(\"Process ID:\", process_id)"
   ]
  },
  {
   "cell_type": "code",
   "execution_count": null,
   "metadata": {},
   "outputs": [],
   "source": []
  }
 ],
 "metadata": {
  "kernelspec": {
   "display_name": "DSMLEnv",
   "language": "python",
   "name": "python3"
  },
  "language_info": {
   "codemirror_mode": {
    "name": "ipython",
    "version": 3
   },
   "file_extension": ".py",
   "mimetype": "text/x-python",
   "name": "python",
   "nbconvert_exporter": "python",
   "pygments_lexer": "ipython3",
   "version": "3.10.8"
  }
 },
 "nbformat": 4,
 "nbformat_minor": 2
}

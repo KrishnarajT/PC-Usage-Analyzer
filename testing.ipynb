{
 "cells": [
  {
   "cell_type": "code",
   "execution_count": 75,
   "metadata": {
    "is_executing": true
   },
   "outputs": [],
   "source": [
    "import pygetwindow as gw"
   ]
  },
  {
   "cell_type": "code",
   "execution_count": 79,
   "metadata": {},
   "outputs": [
    {
     "name": "stdout",
     "output_type": "stream",
     "text": [
      "p:\\Programs\\DSML\\DSMLEnv\\Scripts\\python.exe\n",
      "C:\\Users\\Krishnaraj\\AppData\\Local\\Programs\\Python\\Python310\\python.exe\n",
      "C:\\Users\\Krishnaraj\\AppData\\Local\\Programs\\Python\\Python38\\python.exe\n",
      "C:\\Users\\Krishnaraj\\AppData\\Local\\Microsoft\\WindowsApps\\python.exe\n"
     ]
    }
   ],
   "source": [
    "!where python"
   ]
  },
  {
   "cell_type": "code",
   "execution_count": 4,
   "metadata": {},
   "outputs": [
    {
     "data": {
      "text/plain": [
       "['testing.ipynb - DSML - python - Visual Studio Code - Insiders',\n",
       " \"asweigart/PyGetWindow: A simple, cross-platform module for obtaining GUI information on applications' windows. and 7 more pages - Personal - Microsoft\\u200b Edge\",\n",
       " 'Data Sets',\n",
       " 'WhatsApp',\n",
       " '6. Independent and Dependent events.mp4 - PotPlayer',\n",
       " 'To-Do | Default view',\n",
       " 'Design',\n",
       " 'Task Manager',\n",
       " 'OneNote for Windows 10',\n",
       " 'OneNote for Windows 10',\n",
       " 'Windows Input Experience',\n",
       " 'Mail',\n",
       " 'Inbox - Outlook \\u200e- Mail',\n",
       " 'Settings',\n",
       " 'Settings',\n",
       " 'WhatsApp',\n",
       " 'Program Manager']"
      ]
     },
     "execution_count": 4,
     "metadata": {},
     "output_type": "execute_result"
    }
   ],
   "source": [
    "gw.getAllTitles()\n",
    "# filter those that are empty\n",
    "windows = [w for w in gw.getAllTitles() if w]\n",
    "windows"
   ]
  },
  {
   "cell_type": "code",
   "execution_count": 6,
   "metadata": {},
   "outputs": [
    {
     "data": {
      "text/plain": [
       "[Win32Window(hWnd=527282),\n",
       " Win32Window(hWnd=65736),\n",
       " Win32Window(hWnd=1510122),\n",
       " Win32Window(hWnd=656072),\n",
       " Win32Window(hWnd=1705758),\n",
       " Win32Window(hWnd=18615200),\n",
       " Win32Window(hWnd=265884),\n",
       " Win32Window(hWnd=2228790),\n",
       " Win32Window(hWnd=395648),\n",
       " Win32Window(hWnd=67648),\n",
       " Win32Window(hWnd=199072),\n",
       " Win32Window(hWnd=459440),\n",
       " Win32Window(hWnd=1116530),\n",
       " Win32Window(hWnd=262678),\n",
       " Win32Window(hWnd=329912),\n",
       " Win32Window(hWnd=131180),\n",
       " Win32Window(hWnd=132844),\n",
       " Win32Window(hWnd=198126),\n",
       " Win32Window(hWnd=131256),\n",
       " Win32Window(hWnd=263758),\n",
       " Win32Window(hWnd=394068),\n",
       " Win32Window(hWnd=65966),\n",
       " Win32Window(hWnd=65906),\n",
       " Win32Window(hWnd=65904),\n",
       " Win32Window(hWnd=65902),\n",
       " Win32Window(hWnd=65900),\n",
       " Win32Window(hWnd=264346),\n",
       " Win32Window(hWnd=132990),\n",
       " Win32Window(hWnd=658334),\n",
       " Win32Window(hWnd=1707014),\n",
       " Win32Window(hWnd=263540),\n",
       " Win32Window(hWnd=527672),\n",
       " Win32Window(hWnd=65852)]"
      ]
     },
     "execution_count": 6,
     "metadata": {},
     "output_type": "execute_result"
    }
   ],
   "source": [
    "gw.getAllWindows()"
   ]
  },
  {
   "cell_type": "code",
   "execution_count": 27,
   "metadata": {},
   "outputs": [],
   "source": [
    "whatsapp = gw.getWindowsWithTitle(\"Whatsapp\")[0]\n",
    "whatsapp.title\n",
    "whatsapp.minimize()"
   ]
  },
  {
   "cell_type": "code",
   "execution_count": 31,
   "metadata": {},
   "outputs": [],
   "source": [
    "whatsapp.close()"
   ]
  },
  {
   "cell_type": "code",
   "execution_count": 20,
   "metadata": {},
   "outputs": [
    {
     "data": {
      "text/plain": [
       "'testing.ipynb - DSML - python - Visual Studio Code - Insiders'"
      ]
     },
     "execution_count": 20,
     "metadata": {},
     "output_type": "execute_result"
    }
   ],
   "source": [
    "gw.getActiveWindow().title"
   ]
  },
  {
   "cell_type": "code",
   "execution_count": 11,
   "metadata": {},
   "outputs": [
    {
     "data": {
      "text/plain": [
       "[Win32Window(hWnd=656072),\n",
       " Win32Window(hWnd=18615200),\n",
       " Win32Window(hWnd=265884),\n",
       " Win32Window(hWnd=67648),\n",
       " Win32Window(hWnd=262678),\n",
       " Win32Window(hWnd=131180),\n",
       " Win32Window(hWnd=132844),\n",
       " Win32Window(hWnd=131256),\n",
       " Win32Window(hWnd=658334),\n",
       " Win32Window(hWnd=65852)]"
      ]
     },
     "execution_count": 11,
     "metadata": {},
     "output_type": "execute_result"
    }
   ],
   "source": [
    "gw.getWindowsAt(10, 10)"
   ]
  },
  {
   "cell_type": "code",
   "execution_count": 32,
   "metadata": {},
   "outputs": [],
   "source": [
    "current_window = gw.getActiveWindow()"
   ]
  },
  {
   "cell_type": "code",
   "execution_count": 36,
   "metadata": {},
   "outputs": [
    {
     "data": {
      "text/plain": [
       "'testing.ipynb - DSML - python - Visual Studio Code - Insiders'"
      ]
     },
     "execution_count": 36,
     "metadata": {},
     "output_type": "execute_result"
    }
   ],
   "source": [
    "current_window.title"
   ]
  },
  {
   "cell_type": "code",
   "execution_count": 38,
   "metadata": {},
   "outputs": [
    {
     "data": {
      "text/plain": [
       "True"
      ]
     },
     "execution_count": 38,
     "metadata": {},
     "output_type": "execute_result"
    }
   ],
   "source": [
    "current_window.isActive"
   ]
  },
  {
   "cell_type": "code",
   "execution_count": 39,
   "metadata": {},
   "outputs": [
    {
     "name": "stdout",
     "output_type": "stream",
     "text": [
      "testing.ipynb - DSML - python - Visual Studio Code - Insiders\n",
      "testing.ipynb - DSML - python - Visual Studio Code - Insiders\n",
      "testing.ipynb - DSML - python - Visual Studio Code - Insiders\n",
      "testing.ipynb - DSML - python - Visual Studio Code - Insiders\n",
      "testing.ipynb - DSML - python - Visual Studio Code - Insiders\n",
      "testing.ipynb - DSML - python - Visual Studio Code - Insiders\n",
      "testing.ipynb - DSML - python - Visual Studio Code - Insiders\n",
      "testing.ipynb - DSML - python - Visual Studio Code - Insiders\n",
      "testing.ipynb - DSML - python - Visual Studio Code - Insiders\n",
      "testing.ipynb - DSML - python - Visual Studio Code - Insiders\n",
      "testing.ipynb - DSML - python - Visual Studio Code - Insiders\n",
      "testing.ipynb - DSML - python - Visual Studio Code - Insiders\n",
      "testing.ipynb - DSML - python - Visual Studio Code - Insiders\n",
      "testing.ipynb - DSML - python - Visual Studio Code - Insiders\n",
      "testing.ipynb - DSML - python - Visual Studio Code - Insiders\n",
      "testing.ipynb - DSML - python - Visual Studio Code - Insiders\n",
      "testing.ipynb - DSML - python - Visual Studio Code - Insiders\n",
      "testing.ipynb - DSML - python - Visual Studio Code - Insiders\n",
      "testing.ipynb - DSML - python - Visual Studio Code - Insiders\n",
      "testing.ipynb - DSML - python - Visual Studio Code - Insiders\n",
      "testing.ipynb - DSML - python - Visual Studio Code - Insiders\n",
      "testing.ipynb - DSML - python - Visual Studio Code - Insiders\n",
      "testing.ipynb - DSML - python - Visual Studio Code - Insiders\n",
      "testing.ipynb - DSML - python - Visual Studio Code - Insiders\n",
      "testing.ipynb - DSML - python - Visual Studio Code - Insiders\n",
      "testing.ipynb - DSML - python - Visual Studio Code - Insiders\n",
      "testing.ipynb - DSML - python - Visual Studio Code - Insiders\n"
     ]
    },
    {
     "ename": "KeyboardInterrupt",
     "evalue": "",
     "output_type": "error",
     "traceback": [
      "\u001b[1;31m---------------------------------------------------------------------------\u001b[0m",
      "\u001b[1;31mKeyboardInterrupt\u001b[0m                         Traceback (most recent call last)",
      "Cell \u001b[1;32mIn[39], line 5\u001b[0m\n\u001b[0;32m      3\u001b[0m \u001b[38;5;28;01mwhile\u001b[39;00m \u001b[38;5;28;01mTrue\u001b[39;00m:\n\u001b[0;32m      4\u001b[0m     \u001b[38;5;28mprint\u001b[39m(current_window\u001b[38;5;241m.\u001b[39mtitle)\n\u001b[1;32m----> 5\u001b[0m     \u001b[43mtime\u001b[49m\u001b[38;5;241;43m.\u001b[39;49m\u001b[43msleep\u001b[49m\u001b[43m(\u001b[49m\u001b[38;5;241;43m1\u001b[39;49m\u001b[43m)\u001b[49m\n",
      "\u001b[1;31mKeyboardInterrupt\u001b[0m: "
     ]
    }
   ],
   "source": [
    "import time\n",
    "\n",
    "while True:\n",
    "    print(current_window.title)\n",
    "    time.sleep(1)"
   ]
  },
  {
   "cell_type": "code",
   "execution_count": 1,
   "metadata": {},
   "outputs": [
    {
     "name": "stdout",
     "output_type": "stream",
     "text": [
      "Collecting pyautoguiNote: you may need to restart the kernel to use updated packages.\n",
      "\n",
      "  Downloading PyAutoGUI-0.9.54.tar.gz (61 kB)\n",
      "     ---------------------------------------- 0.0/61.2 kB ? eta -:--:--\n",
      "     ---------------------------------------- 61.2/61.2 kB 1.1 MB/s eta 0:00:00\n",
      "  Installing build dependencies: started\n",
      "  Installing build dependencies: finished with status 'done'\n",
      "  Getting requirements to build wheel: started\n",
      "  Getting requirements to build wheel: finished with status 'done'\n",
      "  Installing backend dependencies: started\n",
      "  Installing backend dependencies: finished with status 'done'\n",
      "  Preparing metadata (pyproject.toml): started\n",
      "  Preparing metadata (pyproject.toml): finished with status 'done'\n",
      "Requirement already satisfied: pywin32 in p:\\programs\\dsml\\dsmlenv\\lib\\site-packages (306)\n",
      "Collecting pymsgbox (from pyautogui)\n",
      "  Downloading PyMsgBox-1.0.9.tar.gz (18 kB)\n",
      "  Installing build dependencies: started\n",
      "  Installing build dependencies: finished with status 'done'\n",
      "  Getting requirements to build wheel: started\n",
      "  Getting requirements to build wheel: finished with status 'done'\n",
      "  Installing backend dependencies: started\n",
      "  Installing backend dependencies: finished with status 'done'\n",
      "  Preparing metadata (pyproject.toml): started\n",
      "  Preparing metadata (pyproject.toml): finished with status 'done'\n",
      "Collecting pytweening>=1.0.4 (from pyautogui)\n",
      "  Downloading pytweening-1.0.7.tar.gz (168 kB)\n",
      "     ---------------------------------------- 0.0/168.2 kB ? eta -:--:--\n",
      "     -------------------------------------- 168.2/168.2 kB 3.4 MB/s eta 0:00:00\n",
      "  Preparing metadata (setup.py): started\n",
      "  Preparing metadata (setup.py): finished with status 'done'\n",
      "Collecting pyscreeze>=0.1.21 (from pyautogui)\n",
      "  Downloading PyScreeze-0.1.30.tar.gz (27 kB)\n",
      "  Installing build dependencies: started\n",
      "  Installing build dependencies: finished with status 'done'\n",
      "  Getting requirements to build wheel: started\n",
      "  Getting requirements to build wheel: finished with status 'done'\n",
      "  Preparing metadata (pyproject.toml): started\n",
      "  Preparing metadata (pyproject.toml): finished with status 'done'\n",
      "Requirement already satisfied: pygetwindow>=0.0.5 in p:\\programs\\dsml\\dsmlenv\\lib\\site-packages (from pyautogui) (0.0.9)\n",
      "Collecting mouseinfo (from pyautogui)\n",
      "  Downloading MouseInfo-0.1.3.tar.gz (10 kB)\n",
      "  Preparing metadata (setup.py): started\n",
      "  Preparing metadata (setup.py): finished with status 'done'\n",
      "Requirement already satisfied: pyrect in p:\\programs\\dsml\\dsmlenv\\lib\\site-packages (from pygetwindow>=0.0.5->pyautogui) (0.2.0)\n",
      "Requirement already satisfied: Pillow>=9.2.0 in p:\\programs\\dsml\\dsmlenv\\lib\\site-packages (from pyscreeze>=0.1.21->pyautogui) (10.2.0)\n",
      "Collecting pyperclip (from mouseinfo->pyautogui)\n",
      "  Downloading pyperclip-1.8.2.tar.gz (20 kB)\n",
      "  Preparing metadata (setup.py): started\n",
      "  Preparing metadata (setup.py): finished with status 'done'\n",
      "Building wheels for collected packages: pyautogui, pyscreeze, pytweening, mouseinfo, pymsgbox, pyperclip\n",
      "  Building wheel for pyautogui (pyproject.toml): started\n",
      "  Building wheel for pyautogui (pyproject.toml): finished with status 'done'\n",
      "  Created wheel for pyautogui: filename=PyAutoGUI-0.9.54-py3-none-any.whl size=37597 sha256=a263241f88caff332e328ef2d6fec985bc0a4bf4397b665c8a9170bf06ade5a7\n",
      "  Stored in directory: c:\\users\\krishnaraj\\appdata\\local\\pip\\cache\\wheels\\23\\a7\\1c\\5a51aaff3bbe110be4ddf766d429cc9d2fae7a72fc1b843e56\n",
      "  Building wheel for pyscreeze (pyproject.toml): started\n",
      "  Building wheel for pyscreeze (pyproject.toml): finished with status 'done'\n",
      "  Created wheel for pyscreeze: filename=PyScreeze-0.1.30-py3-none-any.whl size=14400 sha256=6945b0ec62713764fd94e8ef4f84130bb820192491656f22276c6a4b0e8a8ec2\n",
      "  Stored in directory: c:\\users\\krishnaraj\\appdata\\local\\pip\\cache\\wheels\\c4\\46\\42\\d3613adf9880c8b4a780c07a8cf85df12ca04a9a0ca77c6c02\n",
      "  Building wheel for pytweening (setup.py): started\n",
      "  Building wheel for pytweening (setup.py): finished with status 'done'\n",
      "  Created wheel for pytweening: filename=pytweening-1.0.7-py3-none-any.whl size=6214 sha256=0e38857ae1d1cf14f0ed201eff2ece797fa51f58dc8d3239e08ec524eb2d5c80\n",
      "  Stored in directory: c:\\users\\krishnaraj\\appdata\\local\\pip\\cache\\wheels\\ae\\a3\\d7\\36c45539416215425b3247e37b691a98a03b1db7b13b7f9632\n",
      "  Building wheel for mouseinfo (setup.py): started\n",
      "  Building wheel for mouseinfo (setup.py): finished with status 'done'\n",
      "  Created wheel for mouseinfo: filename=MouseInfo-0.1.3-py3-none-any.whl size=10904 sha256=e27be7e5448503fb375f0cd0b22c810115660f4f5cd45cb56243813b00f50c7f\n",
      "  Stored in directory: c:\\users\\krishnaraj\\appdata\\local\\pip\\cache\\wheels\\6e\\d5\\27\\2f1be84b3e6ccee99c82f50e3fe7fe6360dd30417109b49a72\n",
      "  Building wheel for pymsgbox (pyproject.toml): started\n",
      "  Building wheel for pymsgbox (pyproject.toml): finished with status 'done'\n",
      "  Created wheel for pymsgbox: filename=PyMsgBox-1.0.9-py3-none-any.whl size=7416 sha256=2f8601414a7a54034d3db71e94e47772d84b39df7305608452453bb1e6a44aa9\n",
      "  Stored in directory: c:\\users\\krishnaraj\\appdata\\local\\pip\\cache\\wheels\\b9\\6a\\ba\\be2d7d78166ec8018c21d07241dffa54446c09652a267759ae\n",
      "  Building wheel for pyperclip (setup.py): started\n",
      "  Building wheel for pyperclip (setup.py): finished with status 'done'\n",
      "  Created wheel for pyperclip: filename=pyperclip-1.8.2-py3-none-any.whl size=11136 sha256=93254a8e6b20953ac90c50f3dddd3428eba1995bbb1c36996e99d49d62ae9967\n",
      "  Stored in directory: c:\\users\\krishnaraj\\appdata\\local\\pip\\cache\\wheels\\04\\24\\fe\\140a94a7f1036003ede94579e6b4227fe96c840c6f4dcbe307\n",
      "Successfully built pyautogui pyscreeze pytweening mouseinfo pymsgbox pyperclip\n",
      "Installing collected packages: pytweening, pyperclip, pymsgbox, pyscreeze, mouseinfo, pyautogui\n",
      "Successfully installed mouseinfo-0.1.3 pyautogui-0.9.54 pymsgbox-1.0.9 pyperclip-1.8.2 pyscreeze-0.1.30 pytweening-1.0.7\n"
     ]
    }
   ],
   "source": [
    "%pip install pyautogui pywin32"
   ]
  },
  {
   "cell_type": "code",
   "execution_count": 41,
   "metadata": {},
   "outputs": [],
   "source": [
    "import win32api\n",
    "import win32gui"
   ]
  },
  {
   "cell_type": "code",
   "execution_count": 42,
   "metadata": {},
   "outputs": [
    {
     "name": "stdout",
     "output_type": "stream",
     "text": [
      "testing.ipynb - DSML - python - Visual Studio Code - Insiders\n"
     ]
    }
   ],
   "source": [
    "active_window_title = win32gui.GetWindowText(win32gui.GetForegroundWindow())\n",
    "print(active_window_title)"
   ]
  },
  {
   "cell_type": "code",
   "execution_count": 45,
   "metadata": {},
   "outputs": [
    {
     "name": "stdout",
     "output_type": "stream",
     "text": [
      "testing.ipynb - DSML - python - Visual Studio Code - Insiders\n",
      "testing.ipynb - DSML - python - Visual Studio Code - Insiders\n",
      "WhatsApp\n",
      "WhatsApp\n",
      "testing.ipynb - DSML - python - Visual Studio Code - Insiders\n",
      "testing.ipynb - DSML - python - Visual Studio Code - Insiders\n",
      "testing.ipynb - DSML - python - Visual Studio Code - Insiders\n",
      "6. Independent and Dependent events.mp4 - PotPlayer\n",
      "6. Independent and Dependent events.mp4 - PotPlayer\n",
      "6. Independent and Dependent events.mp4 - PotPlayer\n"
     ]
    }
   ],
   "source": [
    "i = 10\n",
    "while i:\n",
    "    print(win32gui.GetWindowText(win32gui.GetForegroundWindow()))\n",
    "    time.sleep(1)\n",
    "    i -= 1"
   ]
  },
  {
   "cell_type": "code",
   "execution_count": 47,
   "metadata": {},
   "outputs": [
    {
     "name": "stdout",
     "output_type": "stream",
     "text": [
      "Window Title: testing.ipynb - DSML - python - Visual Studio Code - Insiders\n",
      "Window Class Name: Chrome_WidgetWin_1\n",
      "Window Position: (-7, -7, 1543, 823)\n",
      "Process ID: 27276\n"
     ]
    }
   ],
   "source": [
    "import win32gui\n",
    "import win32process\n",
    "\n",
    "hwnd = win32gui.GetForegroundWindow()\n",
    "window_title = win32gui.GetWindowText(hwnd)\n",
    "window_class_name = win32gui.GetClassName(hwnd)\n",
    "window_rect = win32gui.GetWindowRect(hwnd)\n",
    "_, process_id = win32process.GetWindowThreadProcessId(hwnd)\n",
    "print(\"Window Title:\", window_title)\n",
    "print(\"Window Class Name:\", window_class_name)\n",
    "print(\"Window Position:\", window_rect)\n",
    "print(\"Process ID:\", process_id)"
   ]
  },
  {
   "cell_type": "code",
   "execution_count": 1,
   "metadata": {},
   "outputs": [
    {
     "name": "stdout",
     "output_type": "stream",
     "text": [
      "Collecting schedule\n",
      "  Downloading schedule-1.2.1-py2.py3-none-any.whl.metadata (3.3 kB)\n",
      "Downloading schedule-1.2.1-py2.py3-none-any.whl (11 kB)\n",
      "Installing collected packages: schedule\n",
      "Successfully installed schedule-1.2.1\n",
      "Note: you may need to restart the kernel to use updated packages.\n"
     ]
    },
    {
     "name": "stderr",
     "output_type": "stream",
     "text": [
      "\n",
      "[notice] A new release of pip is available: 23.3.1 -> 23.3.2\n",
      "[notice] To update, run: python.exe -m pip install --upgrade pip\n"
     ]
    }
   ],
   "source": [
    "%pip install schedule"
   ]
  },
  {
   "cell_type": "code",
   "execution_count": 2,
   "metadata": {},
   "outputs": [],
   "source": [
    "import schedule\n"
   ]
  },
  {
   "cell_type": "code",
   "execution_count": 3,
   "metadata": {},
   "outputs": [],
   "source": [
    "class MyClass:\n",
    "    def __init__(self):\n",
    "        self.stop = False\n",
    "\n",
    "    def my_method(self):\n",
    "        if self.stop:\n",
    "            return \"Exit\"\n",
    "        print(\"Running my_method...\")\n",
    "\n",
    "    def stop_job(self):\n",
    "        self.stop = True"
   ]
  },
  {
   "cell_type": "code",
   "execution_count": 72,
   "metadata": {},
   "outputs": [
    {
     "data": {
      "text/plain": [
       "Every 15 seconds do my_method() (last run: [never], next run: 2024-02-04 13:41:54)"
      ]
     },
     "execution_count": 72,
     "metadata": {},
     "output_type": "execute_result"
    }
   ],
   "source": [
    "# Create an instance of MyClass\n",
    "my_instance = MyClass()\n",
    "\n",
    "# Schedule my_method to run every 15 seconds\n",
    "schedule.every(15).seconds.do(my_instance.my_method)"
   ]
  },
  {
   "cell_type": "code",
   "execution_count": 69,
   "metadata": {},
   "outputs": [],
   "source": [
    "schedule.run_pending()"
   ]
  },
  {
   "cell_type": "code",
   "execution_count": 70,
   "metadata": {},
   "outputs": [],
   "source": [
    "for job in schedule.jobs:\n",
    "    print(job.next_run)"
   ]
  },
  {
   "cell_type": "code",
   "execution_count": 65,
   "metadata": {},
   "outputs": [],
   "source": [
    "schedule.clear()"
   ]
  },
  {
   "cell_type": "code",
   "execution_count": 74,
   "metadata": {},
   "outputs": [
    {
     "data": {
      "text/plain": [
       "datetime.datetime(2024, 2, 4, 13, 41, 54, 964122)"
      ]
     },
     "execution_count": 74,
     "metadata": {},
     "output_type": "execute_result"
    }
   ],
   "source": [
    "schedule.next_run()"
   ]
  },
  {
   "cell_type": "code",
   "execution_count": null,
   "metadata": {},
   "outputs": [],
   "source": []
  }
 ],
 "metadata": {
  "kernelspec": {
   "display_name": "DSMLEnv",
   "language": "python",
   "name": "python3"
  },
  "language_info": {
   "codemirror_mode": {
    "name": "ipython",
    "version": 3
   },
   "file_extension": ".py",
   "mimetype": "text/x-python",
   "name": "python",
   "nbconvert_exporter": "python",
   "pygments_lexer": "ipython3",
   "version": "3.10.8"
  }
 },
 "nbformat": 4,
 "nbformat_minor": 2
}
